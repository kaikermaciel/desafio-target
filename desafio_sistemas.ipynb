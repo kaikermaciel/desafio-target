{
  "cells": [
    {
      "cell_type": "markdown",
      "metadata": {
        "id": "UqsyvEGRbMWk"
      },
      "source": [
        "1) Dado a sequência de Fibonacci, onde se inicia por 0 e 1 e o próximo valor sempre será a soma dos 2 valores anteriores (exemplo: 0, 1, 1, 2, 3, 5, 8, 13, 21, 34...), escreva um programa na linguagem que desejar onde, informado um número, ele calcule a sequência de Fibonacci e retorne uma mensagem avisando se o número informado pertence ou não a sequência.\n",
        "\n",
        "IMPORTANTE: Esse número pode ser informado através de qualquer entrada de sua preferência ou pode ser previamente definido no código;"
      ]
    },
    {
      "cell_type": "code",
      "execution_count": 5,
      "metadata": {
        "id": "w3PxU0S6bJiH"
      },
      "outputs": [
        {
          "name": "stdout",
          "output_type": "stream",
          "text": [
            "O número 34 pertence à sequência de Fibonacci.\n"
          ]
        }
      ],
      "source": [
        "def is_fibonacci(num):\n",
        "    def fibonacci_sequence_up_to(n):\n",
        "        fib_seq = [0, 1]\n",
        "        while fib_seq[-1] < n:\n",
        "            fib_seq.append(fib_seq[-1] + fib_seq[-2])\n",
        "        return fib_seq\n",
        "\n",
        "    fib_seq = fibonacci_sequence_up_to(num)\n",
        "\n",
        "    if num in fib_seq:\n",
        "        return f\"O número {num} pertence à sequência de Fibonacci.\"\n",
        "    else:\n",
        "        return f\"O número {num} NÃO pertence à sequência de Fibonacci.\"\n",
        "\n",
        "num = int(input())\n",
        "print(is_fibonacci(num))\n"
      ]
    },
    {
      "cell_type": "markdown",
      "metadata": {
        "id": "EeAWtIiJc69R"
      },
      "source": [
        "2) Escreva um programa que verifique, em uma string, a existência da letra ‘a’, seja maiúscula ou minúscula, além de informar a quantidade de vezes em que ela ocorre.\n",
        "\n",
        "IMPORTANTE: Essa string pode ser informada através de qualquer entrada de sua preferência ou pode ser previamente definida no código;"
      ]
    },
    {
      "cell_type": "code",
      "execution_count": 17,
      "metadata": {
        "id": "M_kXkZQrc-Jt"
      },
      "outputs": [
        {
          "data": {
            "text/plain": [
              "5"
            ]
          },
          "execution_count": 17,
          "metadata": {},
          "output_type": "execute_result"
        }
      ],
      "source": [
        "def letter_a_in_string():\n",
        "  return str(input()).lower().count('a')\n",
        "\n",
        "letter_a_in_string()"
      ]
    },
    {
      "cell_type": "markdown",
      "metadata": {},
      "source": [
        "3) Observe o trecho de código abaixo: int INDICE = 12, SOMA = 0, K = 1; enquanto K < INDICE faça { K = K + 1; SOMA = SOMA + K; } imprimir(SOMA);\n",
        "\n",
        "Ao final do processamento, qual será o valor da variável SOMA?\n",
        "\n",
        "### Resposta\n",
        "\n",
        "77"
      ]
    },
    {
      "cell_type": "code",
      "execution_count": 15,
      "metadata": {},
      "outputs": [
        {
          "name": "stdout",
          "output_type": "stream",
          "text": [
            "77\n"
          ]
        }
      ],
      "source": [
        "# Mostrando a questão acima\n",
        "\n",
        "def sum_for_indice():\n",
        "    indice = 12\n",
        "    soma = 0\n",
        "    k = 1\n",
        "    while k < indice:\n",
        "        k = k + 1\n",
        "        soma = soma + k\n",
        "\n",
        "    print(soma)\n",
        "\n",
        "sum_for_indice()"
      ]
    },
    {
      "cell_type": "markdown",
      "metadata": {},
      "source": [
        "### 4) Descubra a lógica e complete o próximo elemento:\n",
        "\n",
        "**a) 1, 3, 5, 7, ___**\n",
        "* Solução:\n",
        "    * Soma dois ao último número inserido\n",
        "    * Sequência: 1, 3, 5, 7, 9...\n",
        "\n",
        "<br>\n",
        "\n",
        "**b) 2, 4, 8, 16, 32, 64, ____**\n",
        "* Solução:\n",
        "    * Multiplica dois ao último número inserido\n",
        "    * Sequência: 2, 4, 8, 16, 32, 64, 128...\n",
        "<br>\n",
        "\n",
        "**c) 0, 1, 4, 9, 16, 25, 36, ____**\n",
        "* Solução:\n",
        "    * Eleva a dois ao index atual\n",
        "    * Index:     0  1  2  3  4   5   6   7\n",
        "    * Sequência: 0, 1, 4, 9, 16, 25, 36, 49\n",
        "<br>\n",
        "\n",
        "**d) 4, 16, 36, 64, ____**\n",
        "* Solução:\n",
        "    * Eleva a dois ao index atual, apenas os pares.\n",
        "    * Index:     0  1   2   3   4   \n",
        "    * Valor:     2  4   6   8   10\n",
        "    * Sequência: 4, 16, 36, 64, 100\n",
        "<br>\n",
        "\n",
        "**e) 1, 1, 2, 3, 5, 8, ____**\n",
        "* Solução:\n",
        "    * Sequência de fibonacci.\n",
        "    * Sequência: 1, 1, 2, 3, 5, 8, 13\n",
        "<br>\n",
        "\n",
        "**f) 2,10, 12, 16, 17, 18, 19, ____**\n",
        "* Solução:\n",
        "    * Números que por extenso começam com 'D'.\n",
        "    * Sequência: 2,10, 12, 16, 17, 18, 19, 200\n"
      ]
    },
    {
      "cell_type": "markdown",
      "metadata": {},
      "source": [
        "### 5) Você está em uma sala com três interruptores, cada um conectado a uma lâmpada em salas diferentes. Você não pode ver as lâmpadas da sala em que está, mas pode ligar e desligar os interruptores quantas vezes quiser. Seu objetivo é descobrir qual interruptor controla qual lâmpada. Como você faria para descobrir, usando apenas duas idas até uma das salas das lâmpadas, qual interruptor controla cada lâmpada?  \n",
        "\n",
        "Liga-se dois interruptores, ao verificar, descobre-se um interruptor cuja sala estará desligada. Volta a sala dos interruptores, liga-se a que estava previamente ligada e desliga-se um dos quais estava ativo e ao verificar qual sala está apagada será o próximo interruptor descoberto e, consequentemente, o outro pois previamente descobrimos o outro interruptor desconhecido deixando apenas uma opção indo a segunda ida disponível."
      ]
    },
    {
      "cell_type": "code",
      "execution_count": null,
      "metadata": {},
      "outputs": [],
      "source": []
    }
  ],
  "metadata": {
    "colab": {
      "provenance": []
    },
    "kernelspec": {
      "display_name": "Python 3",
      "name": "python3"
    },
    "language_info": {
      "codemirror_mode": {
        "name": "ipython",
        "version": 3
      },
      "file_extension": ".py",
      "mimetype": "text/x-python",
      "name": "python",
      "nbconvert_exporter": "python",
      "pygments_lexer": "ipython3",
      "version": "3.12.3"
    }
  },
  "nbformat": 4,
  "nbformat_minor": 0
}
